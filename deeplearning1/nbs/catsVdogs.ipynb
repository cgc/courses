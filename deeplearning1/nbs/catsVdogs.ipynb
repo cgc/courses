{
 "cells": [
  {
   "cell_type": "code",
   "execution_count": 1,
   "metadata": {},
   "outputs": [
    {
     "name": "stderr",
     "output_type": "stream",
     "text": [
      "WARNING (theano.sandbox.cuda): The cuda backend is deprecated and will be removed in the next release (v0.10).  Please switch to the gpuarray backend. You can get more information about how to switch at this URL:\n",
      " https://github.com/Theano/Theano/wiki/Converting-to-the-new-gpu-back-end%28gpuarray%29\n",
      "\n",
      "Using gpu device 0: Quadro M4000 (CNMeM is disabled, cuDNN 5105)\n",
      "Using Theano backend.\n"
     ]
    }
   ],
   "source": [
    "%matplotlib inline\n",
    "from __future__ import division,print_function\n",
    "\n",
    "import os, json\n",
    "from glob import glob\n",
    "import numpy as np\n",
    "np.set_printoptions(precision=4, linewidth=100)\n",
    "from matplotlib import pyplot as plt\n",
    "import utils; reload(utils)\n",
    "from utils import plots, get_data, get_batches\n",
    "import os, json\n",
    "from glob import glob\n",
    "import numpy as np\n",
    "from scipy import misc, ndimage\n",
    "from scipy.ndimage.interpolation import zoom\n",
    "from sklearn.preprocessing import OneHotEncoder\n",
    "import pandas as pd\n",
    "\n",
    "from keras import backend as K\n",
    "from keras.layers.normalization import BatchNormalization\n",
    "from keras.utils.data_utils import get_file\n",
    "from keras.models import Sequential\n",
    "from keras.layers.core import Flatten, Dense, Dropout, Lambda\n",
    "from keras.layers.convolutional import Convolution2D, MaxPooling2D, ZeroPadding2D\n",
    "from keras.layers.pooling import GlobalAveragePooling2D\n",
    "from keras.optimizers import SGD, RMSprop, Adam\n",
    "from keras.preprocessing import image"
   ]
  },
  {
   "cell_type": "code",
   "execution_count": 2,
   "metadata": {
    "collapsed": true
   },
   "outputs": [],
   "source": [
    "path = \"data/dogscats/\"\n",
    "#path = \"data/dogscats/sample/\"\n",
    "model_path = path + 'models/'\n",
    "if not os.path.exists(model_path): os.mkdir(model_path)"
   ]
  },
  {
   "cell_type": "code",
   "execution_count": 3,
   "metadata": {},
   "outputs": [],
   "source": [
    "FILE_PATH = 'http://www.platform.ai/models/'\n",
    "fn = 'imagenet_class_index.json'\n",
    "get_file(fn, FILE_PATH + fn, cache_subdir='models')\n",
    "fn = 'vgg16.h5'\n",
    "vgg_weights = get_file(fn, FILE_PATH + fn, cache_subdir='models')"
   ]
  },
  {
   "cell_type": "code",
   "execution_count": 4,
   "metadata": {},
   "outputs": [
    {
     "name": "stdout",
     "output_type": "stream",
     "text": [
      "Found 2000 images belonging to 2 classes.\n",
      "Found 23000 images belonging to 2 classes.\n"
     ]
    }
   ],
   "source": [
    "val_batches = get_batches(path+'valid', shuffle=False, batch_size=1)\n",
    "batches = get_batches(path+'train', shuffle=False, batch_size=1)"
   ]
  },
  {
   "cell_type": "code",
   "execution_count": 5,
   "metadata": {},
   "outputs": [],
   "source": [
    "vgg_mean = np.array([123.68, 116.779, 103.939], dtype=np.float32).reshape((3, 1, 1))\n",
    "def preproc(x):\n",
    "    x = x - vgg_mean\n",
    "    return x[:, ::-1] # reverse color order\n",
    "\n",
    "def conv(model, layers, filters):\n",
    "    for _ in range(layers):\n",
    "        model.add(ZeroPadding2D((1, 1)))\n",
    "        model.add(Convolution2D(filters, 3, 3, activation='relu'))\n",
    "    model.add(MaxPooling2D((2, 2), strides=(2, 2)))\n",
    "\n",
    "def fc(model):\n",
    "    model.add(Dense(4096, activation='relu'))\n",
    "    model.add(Dropout(0.5))\n",
    "\n",
    "def new_model():\n",
    "    model = Sequential()\n",
    "    model.add(Lambda(preproc, input_shape=(3, 224, 224), output_shape=(3, 224, 224)))\n",
    "    conv(model, 2, 64)\n",
    "    conv(model, 2, 128)\n",
    "    conv(model, 3, 256)\n",
    "    conv(model, 3, 512)\n",
    "    conv(model, 3, 512)\n",
    "\n",
    "    model.add(Flatten())\n",
    "    fc(model)\n",
    "    fc(model)\n",
    "    model.add(Dense(1000, activation='softmax'))\n",
    "\n",
    "    model.load_weights(vgg_weights)\n",
    "    return model"
   ]
  },
  {
   "cell_type": "code",
   "execution_count": 6,
   "metadata": {
    "collapsed": true
   },
   "outputs": [],
   "source": [
    "def render_history(history):\n",
    "    # summarize history for accuracy\n",
    "    plt.subplot(2, 1, 1)\n",
    "    plt.plot(history.history['acc'])\n",
    "    plt.plot(history.history['val_acc'])\n",
    "    plt.title('model accuracy')\n",
    "    plt.ylabel('accuracy')\n",
    "    plt.xlabel('epoch')\n",
    "    plt.legend(['train', 'test'], loc='upper left')\n",
    "\n",
    "    # summarize history for loss\n",
    "    plt.subplot(2, 1, 2)\n",
    "    plt.plot(history.history['loss'])\n",
    "    plt.plot(history.history['val_loss'])\n",
    "    plt.title('model loss')\n",
    "    plt.ylabel('loss')\n",
    "    plt.xlabel('epoch')\n",
    "    plt.legend(['train', 'test'], loc='upper left')"
   ]
  },
  {
   "cell_type": "code",
   "execution_count": 7,
   "metadata": {
    "collapsed": true
   },
   "outputs": [],
   "source": [
    "import bcolz\n",
    "def save_array(fname, arr): c=bcolz.carray(arr, rootdir=fname, mode='w'); c.flush()\n",
    "def load_array(fname): return bcolz.open(fname)[:]"
   ]
  },
  {
   "cell_type": "code",
   "execution_count": 7,
   "metadata": {},
   "outputs": [],
   "source": [
    "# Only need to run this if we don't have the data processed\n",
    "# save_array(model_path+ 'train_data.bc', get_data(path+'train'))\n",
    "# save_array(model_path + 'valid_data.bc', get_data(path+'valid'))"
   ]
  },
  {
   "cell_type": "code",
   "execution_count": 8,
   "metadata": {},
   "outputs": [
    {
     "name": "stdout",
     "output_type": "stream",
     "text": [
      "Found 2000 images belonging to 2 classes.\n",
      "Found 23000 images belonging to 2 classes.\n"
     ]
    }
   ],
   "source": [
    "val_batches = get_batches(path+'valid', shuffle=False, batch_size=1)\n",
    "batches = get_batches(path+'train', shuffle=False, batch_size=1)\n",
    "trn_data = load_array(model_path+'train_data.bc')\n",
    "val_data = load_array(model_path+'valid_data.bc')"
   ]
  },
  {
   "cell_type": "code",
   "execution_count": 9,
   "metadata": {},
   "outputs": [],
   "source": [
    "def onehot(x): return OneHotEncoder().fit_transform(x.reshape(-1, 1)).todense()\n",
    "train_targets = onehot(batches.classes)\n",
    "validation_targets = onehot(val_batches.classes)"
   ]
  },
  {
   "cell_type": "code",
   "execution_count": 10,
   "metadata": {},
   "outputs": [],
   "source": [
    "def fit_model(model, batches, val_batches, nb_epoch=1):\n",
    "    return model.fit_generator(batches, samples_per_epoch=batches.n, nb_epoch=nb_epoch, \n",
    "                        validation_data=val_batches, nb_val_samples=val_batches.n)\n",
    "\n",
    "model = new_model()\n",
    "model.pop()\n",
    "for layer in model.layers: layer.trainable = False\n",
    "model.add(Dense(2, activation='softmax'))"
   ]
  },
  {
   "cell_type": "code",
   "execution_count": 11,
   "metadata": {},
   "outputs": [],
   "source": [
    "batch_size = 100\n",
    "gen = image.ImageDataGenerator()\n",
    "train_b = gen.flow(trn_data, train_targets, batch_size=batch_size, shuffle=True)\n",
    "val_b = gen.flow(val_data, validation_targets, batch_size=batch_size, shuffle=False)"
   ]
  },
  {
   "cell_type": "code",
   "execution_count": 14,
   "metadata": {
    "collapsed": true
   },
   "outputs": [],
   "source": [
    "opt = RMSprop(lr=.1)\n",
    "model.compile(optimizer=opt, loss='categorical_crossentropy', metrics=['accuracy'])"
   ]
  },
  {
   "cell_type": "code",
   "execution_count": 25,
   "metadata": {
    "scrolled": true
   },
   "outputs": [
    {
     "name": "stdout",
     "output_type": "stream",
     "text": [
      "Epoch 1/10\n",
      "2000/2000 [==============================] - 90s - loss: 0.7082 - acc: 0.9540 - val_loss: 0.4846 - val_acc: 0.9680\n",
      "Epoch 2/10\n",
      "2000/2000 [==============================] - 90s - loss: 0.7944 - acc: 0.9490 - val_loss: 0.7574 - val_acc: 0.9515\n",
      "Epoch 3/10\n",
      "2000/2000 [==============================] - 90s - loss: 0.7705 - acc: 0.9500 - val_loss: 0.5799 - val_acc: 0.9635\n",
      "Epoch 4/10\n",
      "2000/2000 [==============================] - 90s - loss: 0.5299 - acc: 0.9655 - val_loss: 0.4791 - val_acc: 0.9695\n",
      "Epoch 5/10\n",
      "2000/2000 [==============================] - 90s - loss: 0.8323 - acc: 0.9460 - val_loss: 0.4841 - val_acc: 0.9685\n",
      "Epoch 6/10\n",
      "2000/2000 [==============================] - 90s - loss: 0.5028 - acc: 0.9680 - val_loss: 0.5099 - val_acc: 0.9665\n",
      "Epoch 7/10\n",
      "2000/2000 [==============================] - 90s - loss: 0.5320 - acc: 0.9665 - val_loss: 0.7412 - val_acc: 0.9530\n",
      "Epoch 8/10\n",
      "2000/2000 [==============================] - 90s - loss: 0.5891 - acc: 0.9620 - val_loss: 0.5427 - val_acc: 0.9655\n",
      "Epoch 9/10\n",
      "2000/2000 [==============================] - 90s - loss: 0.5759 - acc: 0.9625 - val_loss: 0.4209 - val_acc: 0.9730\n",
      "Epoch 10/10\n",
      "2000/2000 [==============================] - 90s - loss: 0.4029 - acc: 0.9745 - val_loss: 0.4712 - val_acc: 0.9700\n"
     ]
    }
   ],
   "source": [
    "history = model.fit_generator(train_b, samples_per_epoch=2000, nb_epoch=10, \n",
    "                        validation_data=val_b, nb_val_samples=val_b.n)"
   ]
  },
  {
   "cell_type": "code",
   "execution_count": 28,
   "metadata": {},
   "outputs": [
    {
     "data": {
      "image/png": "[encoded data removed]",
      "text/plain": [
       "<matplotlib.figure.Figure at 0x7f8b6b2c7ed0>"
      ]
     },
     "metadata": {},
     "output_type": "display_data"
    }
   ],
   "source": [
    "render_history(history)"
   ]
  },
  {
   "cell_type": "code",
   "execution_count": 26,
   "metadata": {
    "collapsed": true
   },
   "outputs": [],
   "source": [
    "model.save_weights(model_path+'finetune1.h5')"
   ]
  },
  {
   "cell_type": "markdown",
   "metadata": {},
   "source": [
    "Now let's train the fully-connected layers!"
   ]
  },
  {
   "cell_type": "code",
   "execution_count": 31,
   "metadata": {},
   "outputs": [
    {
     "name": "stdout",
     "output_type": "stream",
     "text": [
      "Epoch 1/10\n",
      "2000/2000 [==============================] - 90s - loss: 0.4976 - acc: 0.9675 - val_loss: 0.4748 - val_acc: 0.9700\n",
      "Epoch 2/10\n",
      "2000/2000 [==============================] - 90s - loss: 0.4659 - acc: 0.9705 - val_loss: 0.4744 - val_acc: 0.9700\n",
      "Epoch 3/10\n",
      "2000/2000 [==============================] - 90s - loss: 0.4458 - acc: 0.9720 - val_loss: 0.4397 - val_acc: 0.9720\n",
      "Epoch 4/10\n",
      "2000/2000 [==============================] - 90s - loss: 0.4994 - acc: 0.9680 - val_loss: 0.4206 - val_acc: 0.9730\n",
      "Epoch 5/10\n",
      "2000/2000 [==============================] - 90s - loss: 0.3930 - acc: 0.9755 - val_loss: 0.4354 - val_acc: 0.9725\n",
      "Epoch 6/10\n",
      "2000/2000 [==============================] - 90s - loss: 0.4874 - acc: 0.9685 - val_loss: 0.4745 - val_acc: 0.9705\n",
      "Epoch 7/10\n",
      "2000/2000 [==============================] - 90s - loss: 0.4126 - acc: 0.9735 - val_loss: 0.4183 - val_acc: 0.9735\n",
      "Epoch 8/10\n",
      "2000/2000 [==============================] - 90s - loss: 0.5122 - acc: 0.9675 - val_loss: 0.4594 - val_acc: 0.9705\n",
      "Epoch 9/10\n",
      "2000/2000 [==============================] - 90s - loss: 0.5261 - acc: 0.9670 - val_loss: 0.4313 - val_acc: 0.9720\n",
      "Epoch 10/10\n",
      "2000/2000 [==============================] - 90s - loss: 0.4372 - acc: 0.9705 - val_loss: 0.4176 - val_acc: 0.9725\n"
     ]
    }
   ],
   "source": [
    "dense_idx = next(idx for idx, layer in enumerate(model.layers) if type(layer) is Dense)\n",
    "for layer in model.layers[dense_idx:]: layer.trainable = True\n",
    "K.set_value(opt.lr, 0.01)\n",
    "history = model.fit_generator(train_b, samples_per_epoch=2000, nb_epoch=10, \n",
    "                        validation_data=val_b, nb_val_samples=val_b.n)"
   ]
  },
  {
   "cell_type": "code",
   "execution_count": 33,
   "metadata": {},
   "outputs": [
    {
     "data": {
      "image/png": "[encoded data removed]",
      "text/plain": [
       "<matplotlib.figure.Figure at 0x7f8b5a46fbd0>"
      ]
     },
     "metadata": {},
     "output_type": "display_data"
    }
   ],
   "source": [
    "render_history(history)"
   ]
  },
  {
   "cell_type": "code",
   "execution_count": 32,
   "metadata": {
    "collapsed": true
   },
   "outputs": [],
   "source": [
    "model.save_weights(model_path+'finetune2.h5')"
   ]
  },
  {
   "cell_type": "markdown",
   "metadata": {},
   "source": [
    "Now let's prep for submission!"
   ]
  },
  {
   "cell_type": "code",
   "execution_count": 27,
   "metadata": {},
   "outputs": [
    {
     "name": "stdout",
     "output_type": "stream",
     "text": [
      "Found 12500 images belonging to 1 classes.\n"
     ]
    }
   ],
   "source": [
    "# HACK setting classes=['.'] to avoid restructuring formats on disk\n",
    "test_b = gen.flow_from_directory(path+'test1', batch_size=1, shuffle=False,\n",
    "                                 class_mode=None, classes=['.'], target_size=(224,224))\n",
    "# HACK this code loads the test data to save it\n",
    "# test_data = np.concatenate([test_b.next() for i in range(test_b.nb_sample)])\n",
    "# save_array(model_path + 'test_data.bc', test_data)"
   ]
  },
  {
   "cell_type": "code",
   "execution_count": 22,
   "metadata": {
    "scrolled": true
   },
   "outputs": [],
   "source": [
    "test_data = load_array(model_path+'test_data.bc')"
   ]
  },
  {
   "cell_type": "code",
   "execution_count": 23,
   "metadata": {},
   "outputs": [
    {
     "name": "stdout",
     "output_type": "stream",
     "text": [
      "2000/2000 [==============================] - 45s    \n"
     ]
    },
    {
     "data": {
      "text/plain": [
       "[0.47119597864151536, 0.96999999999999997]"
      ]
     },
     "execution_count": 23,
     "metadata": {},
     "output_type": "execute_result"
    }
   ],
   "source": [
    "model.load_weights(model_path+'finetune1.h5')\n",
    "model.evaluate(val_data, validation_targets)"
   ]
  },
  {
   "cell_type": "code",
   "execution_count": 24,
   "metadata": {},
   "outputs": [
    {
     "name": "stdout",
     "output_type": "stream",
     "text": [
      "12500/12500 [==============================] - 283s   \n"
     ]
    }
   ],
   "source": [
    "test_labels = model.predict_proba(test_data)"
   ]
  },
  {
   "cell_type": "code",
   "execution_count": 46,
   "metadata": {},
   "outputs": [],
   "source": [
    "sub = pd.DataFrame({\n",
    "    'id': test_b.filenames,\n",
    "    'label': test_labels[:, batches.class_indices['dogs']],\n",
    "}, columns=['id', 'label'])\n",
    "# and parse the filename\n",
    "sub['id'] = sub['id'].apply(lambda fn: os.path.basename(fn).split('.')[0])\n",
    "sub.set_index('id', inplace=True)\n",
    "sub['label'] = np.clip(sub['label'], .025, .975)\n",
    "sub.to_csv('dogs-vs-cats-redux-kernels-edition.csv')"
   ]
  },
  {
   "cell_type": "code",
   "execution_count": null,
   "metadata": {
    "collapsed": true
   },
   "outputs": [],
   "source": []
  }
 ],
 "metadata": {
  "kernelspec": {
   "display_name": "Python 2",
   "language": "python",
   "name": "python2"
  },
  "language_info": {
   "codemirror_mode": {
    "name": "ipython",
    "version": 2
   },
   "file_extension": ".py",
   "mimetype": "text/x-python",
   "name": "python",
   "nbconvert_exporter": "python",
   "pygments_lexer": "ipython2",
   "version": "2.7.6"
  }
 },
 "nbformat": 4,
 "nbformat_minor": 2
}
